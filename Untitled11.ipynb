{
 "cells": [
  {
   "cell_type": "code",
   "execution_count": 16,
   "metadata": {},
   "outputs": [
    {
     "name": "stdout",
     "output_type": "stream",
     "text": [
      "Type how many data you will introduce in X: 2\n",
      "Introduce the data: 1\n",
      "Introduce the data: 2\n",
      "Type how many data you will introduce in Y 1\n",
      "Introduce the data: 1\n",
      "2432\n"
     ]
    }
   ],
   "source": [
    "datax = int(input(\"Type how many data you will introduce in X: \"))\n",
    "sample = []\n",
    "for i in range(0, datax):\n",
    "    a = input(\"Introduce the data: \")\n",
    "    sample.append(a)\n",
    "    \n",
    "datay = int(input(\"Type how many data you will introduce in Y \"))\n",
    "sample2 = []\n",
    "for i in range(0, datay):\n",
    "    b = input(\"Introduce the data: \")\n",
    "    sample.append(b)\n",
    "\n",
    "xi += a\n",
    "print(f\"{xi}\")\n"
   ]
  },
  {
   "cell_type": "markdown",
   "metadata": {},
   "source": []
  }
 ],
 "metadata": {
  "kernelspec": {
   "display_name": "Python 3",
   "language": "python",
   "name": "python3"
  },
  "language_info": {
   "codemirror_mode": {
    "name": "ipython",
    "version": 3
   },
   "file_extension": ".py",
   "mimetype": "text/x-python",
   "name": "python",
   "nbconvert_exporter": "python",
   "pygments_lexer": "ipython3",
   "version": "3.7.4"
  }
 },
 "nbformat": 4,
 "nbformat_minor": 2
}
